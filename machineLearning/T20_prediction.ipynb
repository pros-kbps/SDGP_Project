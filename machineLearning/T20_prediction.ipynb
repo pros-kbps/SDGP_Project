{
 "cells": [
  {
   "cell_type": "markdown",
   "metadata": {
    "id": "Mp_Ns8DOkKhH"
   },
   "source": [
    "# T20 Match Result Analysis & Prediction using ML"
   ]
  },
  {
   "cell_type": "code",
   "execution_count": 257,
   "metadata": {
    "id": "Vwm5awGbkKhL"
   },
   "outputs": [],
   "source": [
    "##importing the required libraries\n",
    "import pandas as pd\n",
    "import matplotlib.pyplot as plt\n",
    "\n",
    "import warnings\n",
    "warnings.filterwarnings('ignore')"
   ]
  },
  {
   "cell_type": "code",
   "execution_count": 258,
   "metadata": {
    "id": "U9ZQYJ2FkKhM",
    "outputId": "fce468e4-603b-4c1c-f66d-ffcde02aa695"
   },
   "outputs": [
    {
     "data": {
      "text/html": [
       "<div>\n",
       "<style scoped>\n",
       "    .dataframe tbody tr th:only-of-type {\n",
       "        vertical-align: middle;\n",
       "    }\n",
       "\n",
       "    .dataframe tbody tr th {\n",
       "        vertical-align: top;\n",
       "    }\n",
       "\n",
       "    .dataframe thead th {\n",
       "        text-align: right;\n",
       "    }\n",
       "</style>\n",
       "<table border=\"1\" class=\"dataframe\">\n",
       "  <thead>\n",
       "    <tr style=\"text-align: right;\">\n",
       "      <th></th>\n",
       "      <th>season</th>\n",
       "      <th>Match_date</th>\n",
       "      <th>city</th>\n",
       "      <th>team1</th>\n",
       "      <th>team2</th>\n",
       "      <th>winner</th>\n",
       "      <th>toss_winner</th>\n",
       "      <th>toss_decision</th>\n",
       "      <th>win_by_runs</th>\n",
       "      <th>win_by_wickets</th>\n",
       "    </tr>\n",
       "  </thead>\n",
       "  <tbody>\n",
       "    <tr>\n",
       "      <th>773</th>\n",
       "      <td>2019</td>\n",
       "      <td>2019/10/23</td>\n",
       "      <td>Abu Dhabi</td>\n",
       "      <td>Canada</td>\n",
       "      <td>Ireland</td>\n",
       "      <td>Canada</td>\n",
       "      <td>Canada</td>\n",
       "      <td>bat</td>\n",
       "      <td>10</td>\n",
       "      <td>NaN</td>\n",
       "    </tr>\n",
       "    <tr>\n",
       "      <th>181</th>\n",
       "      <td>2011</td>\n",
       "      <td>2011/01/12</td>\n",
       "      <td>Adelaide</td>\n",
       "      <td>Australia</td>\n",
       "      <td>England</td>\n",
       "      <td>England</td>\n",
       "      <td>Australia</td>\n",
       "      <td>bat</td>\n",
       "      <td>NaN</td>\n",
       "      <td>1</td>\n",
       "    </tr>\n",
       "    <tr>\n",
       "      <th>702</th>\n",
       "      <td>2019</td>\n",
       "      <td>2019/05/20</td>\n",
       "      <td>Kampala</td>\n",
       "      <td>Ghana</td>\n",
       "      <td>Namibia</td>\n",
       "      <td>Namibia</td>\n",
       "      <td>Namibia</td>\n",
       "      <td>field</td>\n",
       "      <td>NaN</td>\n",
       "      <td>9</td>\n",
       "    </tr>\n",
       "    <tr>\n",
       "      <th>211</th>\n",
       "      <td>2012</td>\n",
       "      <td>2012/02/24</td>\n",
       "      <td>Mombasa</td>\n",
       "      <td>Kenya</td>\n",
       "      <td>Ireland</td>\n",
       "      <td>Ireland</td>\n",
       "      <td>Ireland</td>\n",
       "      <td>bat</td>\n",
       "      <td>2</td>\n",
       "      <td>NaN</td>\n",
       "    </tr>\n",
       "    <tr>\n",
       "      <th>499</th>\n",
       "      <td>2016</td>\n",
       "      <td>2016/03/12</td>\n",
       "      <td>Nagpur</td>\n",
       "      <td>Afghanistan</td>\n",
       "      <td>Zimbabwe</td>\n",
       "      <td>Afghanistan</td>\n",
       "      <td>Afghanistan</td>\n",
       "      <td>bat</td>\n",
       "      <td>59</td>\n",
       "      <td>NaN</td>\n",
       "    </tr>\n",
       "    <tr>\n",
       "      <th>233</th>\n",
       "      <td>2012</td>\n",
       "      <td>2012/07/18</td>\n",
       "      <td>Belfast</td>\n",
       "      <td>Ireland</td>\n",
       "      <td>Bangladesh</td>\n",
       "      <td>Bangladesh</td>\n",
       "      <td>Ireland</td>\n",
       "      <td>field</td>\n",
       "      <td>71</td>\n",
       "      <td>NaN</td>\n",
       "    </tr>\n",
       "    <tr>\n",
       "      <th>358</th>\n",
       "      <td>2014</td>\n",
       "      <td>2014/03/23</td>\n",
       "      <td>Dhaka</td>\n",
       "      <td>India</td>\n",
       "      <td>West Indies</td>\n",
       "      <td>India</td>\n",
       "      <td>India</td>\n",
       "      <td>field</td>\n",
       "      <td>NaN</td>\n",
       "      <td>7</td>\n",
       "    </tr>\n",
       "    <tr>\n",
       "      <th>528</th>\n",
       "      <td>2016</td>\n",
       "      <td>2016/06/22</td>\n",
       "      <td>Harare</td>\n",
       "      <td>Zimbabwe</td>\n",
       "      <td>India</td>\n",
       "      <td>India</td>\n",
       "      <td>Zimbabwe</td>\n",
       "      <td>field</td>\n",
       "      <td>3</td>\n",
       "      <td>NaN</td>\n",
       "    </tr>\n",
       "    <tr>\n",
       "      <th>124</th>\n",
       "      <td>2010</td>\n",
       "      <td>2010/02/10</td>\n",
       "      <td>Dubai (DSC)</td>\n",
       "      <td>Canada</td>\n",
       "      <td>Kenya</td>\n",
       "      <td>Kenya</td>\n",
       "      <td>Kenya</td>\n",
       "      <td>field</td>\n",
       "      <td>NaN</td>\n",
       "      <td>9</td>\n",
       "    </tr>\n",
       "    <tr>\n",
       "      <th>479</th>\n",
       "      <td>2016</td>\n",
       "      <td>2016/02/26</td>\n",
       "      <td>Dhaka</td>\n",
       "      <td>Bangladesh</td>\n",
       "      <td>U.A.E.</td>\n",
       "      <td>Bangladesh</td>\n",
       "      <td>U.A.E.</td>\n",
       "      <td>field</td>\n",
       "      <td>51</td>\n",
       "      <td>NaN</td>\n",
       "    </tr>\n",
       "  </tbody>\n",
       "</table>\n",
       "</div>"
      ],
      "text/plain": [
       "     season  Match_date         city        team1        team2       winner  \\\n",
       "773    2019  2019/10/23    Abu Dhabi       Canada      Ireland       Canada   \n",
       "181    2011  2011/01/12     Adelaide    Australia      England      England   \n",
       "702    2019  2019/05/20      Kampala        Ghana      Namibia      Namibia   \n",
       "211    2012  2012/02/24      Mombasa        Kenya      Ireland      Ireland   \n",
       "499    2016  2016/03/12       Nagpur  Afghanistan     Zimbabwe  Afghanistan   \n",
       "233    2012  2012/07/18      Belfast      Ireland   Bangladesh   Bangladesh   \n",
       "358    2014  2014/03/23        Dhaka        India  West Indies        India   \n",
       "528    2016  2016/06/22       Harare     Zimbabwe        India        India   \n",
       "124    2010  2010/02/10  Dubai (DSC)       Canada        Kenya        Kenya   \n",
       "479    2016  2016/02/26        Dhaka   Bangladesh       U.A.E.   Bangladesh   \n",
       "\n",
       "     toss_winner toss_decision win_by_runs win_by_wickets  \n",
       "773       Canada           bat          10            NaN  \n",
       "181    Australia           bat         NaN              1  \n",
       "702      Namibia         field         NaN              9  \n",
       "211      Ireland           bat           2            NaN  \n",
       "499  Afghanistan           bat          59            NaN  \n",
       "233      Ireland         field          71            NaN  \n",
       "358        India         field         NaN              7  \n",
       "528     Zimbabwe         field           3            NaN  \n",
       "124        Kenya         field         NaN              9  \n",
       "479       U.A.E.         field          51            NaN  "
      ]
     },
     "execution_count": 258,
     "metadata": {},
     "output_type": "execute_result"
    }
   ],
   "source": [
    "##loading the csv files into dataframe\n",
    "match_df = pd.read_csv(\"Data/matchest20-1.csv\")\n",
    "match_df.sample(10)"
   ]
  },
  {
   "cell_type": "markdown",
   "metadata": {
    "id": "9nBLaK5LkKhP"
   },
   "source": [
    "## Exploratory Data Analysis\n",
    "\n",
    "* Looking at all the teams in the teams and winners' column\n",
    "* Checking for missing values for the no result matches\n",
    "* Encoding Team Names\n",
    "* Visualizing the toss wins and match wins by each team\n"
   ]
  },
  {
   "cell_type": "markdown",
   "metadata": {
    "id": "mi2y55zjkKhP"
   },
   "source": [
    "### Looking at all the teams in the teams and winners' column"
   ]
  },
  {
   "cell_type": "code",
   "execution_count": 259,
   "metadata": {
    "id": "CGe1R37wkKhQ",
    "outputId": "9d1c1530-0825-463b-b2c6-db654a9b4fed"
   },
   "outputs": [
    {
     "data": {
      "text/plain": [
       "Pakistan          91\n",
       "India             87\n",
       "South Africa      73\n",
       "New Zealand       64\n",
       "Sri Lanka         63\n",
       "England           60\n",
       "Australia         58\n",
       "West Indies       55\n",
       "Afghanistan       50\n",
       "Netherlands       43\n",
       "Ireland           38\n",
       "Scotland          34\n",
       "Bangladesh        29\n",
       "Zimbabwe          21\n",
       "Kenya             14\n",
       "Namibia           11\n",
       "Hong Kong          8\n",
       "P.N.G.             7\n",
       "U.A.E.             7\n",
       "Canada             6\n",
       "Singapore          4\n",
       "Nepal              3\n",
       "Oman               2\n",
       "Cayman Islands     2\n",
       "World-XI           1\n",
       "Bermuda            1\n",
       "U.S.A.             1\n",
       "Name: winner, dtype: int64"
      ]
     },
     "execution_count": 259,
     "metadata": {},
     "output_type": "execute_result"
    }
   ],
   "source": [
    "match_df['winner'].value_counts()"
   ]
  },
  {
   "cell_type": "code",
   "execution_count": 260,
   "metadata": {
    "id": "q8N0gVkRkKhQ",
    "outputId": "e40421bf-5c89-450d-ce6d-379970013fa2"
   },
   "outputs": [
    {
     "data": {
      "text/plain": [
       "Australia       81\n",
       "New Zealand     80\n",
       "South Africa    69\n",
       "India           68\n",
       "Afghanistan     66\n",
       "England         63\n",
       "Bangladesh      57\n",
       "Ireland         48\n",
       "Sri Lanka       47\n",
       "West Indies     41\n",
       "Pakistan        41\n",
       "Netherlands     36\n",
       "Zimbabwe        27\n",
       "Kenya           21\n",
       "Canada          14\n",
       "U.A.E.          14\n",
       "Bermuda         12\n",
       "Namibia         10\n",
       "Hong Kong       10\n",
       "Scotland        10\n",
       "Oman             7\n",
       "Nepal            3\n",
       "Ghana            2\n",
       "Uganda           2\n",
       "Singapore        2\n",
       "Botswana         1\n",
       "P.N.G.           1\n",
       "Name: team1, dtype: int64"
      ]
     },
     "execution_count": 260,
     "metadata": {},
     "output_type": "execute_result"
    }
   ],
   "source": [
    "match_df['team1'].value_counts()"
   ]
  },
  {
   "cell_type": "code",
   "execution_count": 261,
   "metadata": {
    "id": "LIPFSIBGkKhR",
    "outputId": "aba4043d-2167-494f-ceca-8b53f07d9e54"
   },
   "outputs": [
    {
     "data": {
      "text/html": [
       "<div>\n",
       "<style scoped>\n",
       "    .dataframe tbody tr th:only-of-type {\n",
       "        vertical-align: middle;\n",
       "    }\n",
       "\n",
       "    .dataframe tbody tr th {\n",
       "        vertical-align: top;\n",
       "    }\n",
       "\n",
       "    .dataframe thead th {\n",
       "        text-align: right;\n",
       "    }\n",
       "</style>\n",
       "<table border=\"1\" class=\"dataframe\">\n",
       "  <thead>\n",
       "    <tr style=\"text-align: right;\">\n",
       "      <th></th>\n",
       "      <th>season</th>\n",
       "      <th>Match_date</th>\n",
       "      <th>city</th>\n",
       "      <th>team1</th>\n",
       "      <th>team2</th>\n",
       "      <th>winner</th>\n",
       "      <th>toss_winner</th>\n",
       "      <th>toss_decision</th>\n",
       "      <th>win_by_runs</th>\n",
       "      <th>win_by_wickets</th>\n",
       "    </tr>\n",
       "  </thead>\n",
       "  <tbody>\n",
       "  </tbody>\n",
       "</table>\n",
       "</div>"
      ],
      "text/plain": [
       "Empty DataFrame\n",
       "Columns: [season, Match_date, city, team1, team2, winner, toss_winner, toss_decision, win_by_runs, win_by_wickets]\n",
       "Index: []"
      ]
     },
     "execution_count": 261,
     "metadata": {},
     "output_type": "execute_result"
    }
   ],
   "source": [
    "match_df[match_df['winner'].isnull() == True]\n"
   ]
  },
  {
   "cell_type": "code",
   "execution_count": 262,
   "metadata": {
    "id": "R5VCujsTkKhR"
   },
   "outputs": [],
   "source": [
    "##replacing null results with draw\n",
    "match_df['winner'].fillna('Draw', inplace=True)"
   ]
  },
  {
   "cell_type": "code",
   "execution_count": 263,
   "metadata": {
    "id": "XF9rdWvnkKhS",
    "outputId": "27c8c8b7-88b1-4ceb-af7b-c6b6a100a58f"
   },
   "outputs": [
    {
     "data": {
      "text/html": [
       "<div>\n",
       "<style scoped>\n",
       "    .dataframe tbody tr th:only-of-type {\n",
       "        vertical-align: middle;\n",
       "    }\n",
       "\n",
       "    .dataframe tbody tr th {\n",
       "        vertical-align: top;\n",
       "    }\n",
       "\n",
       "    .dataframe thead th {\n",
       "        text-align: right;\n",
       "    }\n",
       "</style>\n",
       "<table border=\"1\" class=\"dataframe\">\n",
       "  <thead>\n",
       "    <tr style=\"text-align: right;\">\n",
       "      <th></th>\n",
       "      <th>season</th>\n",
       "      <th>Match_date</th>\n",
       "      <th>city</th>\n",
       "      <th>team1</th>\n",
       "      <th>team2</th>\n",
       "      <th>winner</th>\n",
       "      <th>toss_winner</th>\n",
       "      <th>toss_decision</th>\n",
       "      <th>win_by_runs</th>\n",
       "      <th>win_by_wickets</th>\n",
       "    </tr>\n",
       "  </thead>\n",
       "  <tbody>\n",
       "  </tbody>\n",
       "</table>\n",
       "</div>"
      ],
      "text/plain": [
       "Empty DataFrame\n",
       "Columns: [season, Match_date, city, team1, team2, winner, toss_winner, toss_decision, win_by_runs, win_by_wickets]\n",
       "Index: []"
      ]
     },
     "execution_count": 263,
     "metadata": {},
     "output_type": "execute_result"
    }
   ],
   "source": [
    "match_df[match_df['winner'].isnull() == True]"
   ]
  },
  {
   "cell_type": "markdown",
   "metadata": {
    "id": "C1doG61nkKhS"
   },
   "source": [
    "### Encoding Team Names "
   ]
  },
  {
   "cell_type": "code",
   "execution_count": 264,
   "metadata": {
    "id": "KDEojYjSkKhS",
    "outputId": "7d3d0126-899c-4878-c7aa-dca37f7ff126"
   },
   "outputs": [
    {
     "data": {
      "text/html": [
       "<div>\n",
       "<style scoped>\n",
       "    .dataframe tbody tr th:only-of-type {\n",
       "        vertical-align: middle;\n",
       "    }\n",
       "\n",
       "    .dataframe tbody tr th {\n",
       "        vertical-align: top;\n",
       "    }\n",
       "\n",
       "    .dataframe thead th {\n",
       "        text-align: right;\n",
       "    }\n",
       "</style>\n",
       "<table border=\"1\" class=\"dataframe\">\n",
       "  <thead>\n",
       "    <tr style=\"text-align: right;\">\n",
       "      <th></th>\n",
       "      <th>season</th>\n",
       "      <th>Match_date</th>\n",
       "      <th>city</th>\n",
       "      <th>team1</th>\n",
       "      <th>team2</th>\n",
       "      <th>winner</th>\n",
       "      <th>toss_winner</th>\n",
       "      <th>toss_decision</th>\n",
       "      <th>win_by_runs</th>\n",
       "      <th>win_by_wickets</th>\n",
       "    </tr>\n",
       "  </thead>\n",
       "  <tbody>\n",
       "    <tr>\n",
       "      <th>0</th>\n",
       "      <td>2005</td>\n",
       "      <td>2005/02/17</td>\n",
       "      <td>Auckland</td>\n",
       "      <td>2</td>\n",
       "      <td>6</td>\n",
       "      <td>6</td>\n",
       "      <td>6</td>\n",
       "      <td>bat</td>\n",
       "      <td>44</td>\n",
       "      <td>NaN</td>\n",
       "    </tr>\n",
       "    <tr>\n",
       "      <th>1</th>\n",
       "      <td>2005</td>\n",
       "      <td>2005/06/13</td>\n",
       "      <td>Southampton</td>\n",
       "      <td>5</td>\n",
       "      <td>6</td>\n",
       "      <td>5</td>\n",
       "      <td>5</td>\n",
       "      <td>bat</td>\n",
       "      <td>100</td>\n",
       "      <td>NaN</td>\n",
       "    </tr>\n",
       "    <tr>\n",
       "      <th>2</th>\n",
       "      <td>2005</td>\n",
       "      <td>2005/10/21</td>\n",
       "      <td>Johannesburg</td>\n",
       "      <td>8</td>\n",
       "      <td>2</td>\n",
       "      <td>2</td>\n",
       "      <td>2</td>\n",
       "      <td>bat</td>\n",
       "      <td>NaN</td>\n",
       "      <td>5</td>\n",
       "    </tr>\n",
       "    <tr>\n",
       "      <th>3</th>\n",
       "      <td>2006</td>\n",
       "      <td>2006/01/09</td>\n",
       "      <td>Brisbane</td>\n",
       "      <td>6</td>\n",
       "      <td>8</td>\n",
       "      <td>6</td>\n",
       "      <td>6</td>\n",
       "      <td>bat</td>\n",
       "      <td>95</td>\n",
       "      <td>NaN</td>\n",
       "    </tr>\n",
       "    <tr>\n",
       "      <th>4</th>\n",
       "      <td>2006</td>\n",
       "      <td>2006/02/24</td>\n",
       "      <td>Johannesburg</td>\n",
       "      <td>8</td>\n",
       "      <td>6</td>\n",
       "      <td>8</td>\n",
       "      <td>8</td>\n",
       "      <td>bat</td>\n",
       "      <td>2</td>\n",
       "      <td>NaN</td>\n",
       "    </tr>\n",
       "  </tbody>\n",
       "</table>\n",
       "</div>"
      ],
      "text/plain": [
       "   season  Match_date          city  team1  team2  winner  toss_winner  \\\n",
       "0    2005  2005/02/17      Auckland      2      6       6            6   \n",
       "1    2005  2005/06/13   Southampton      5      6       5            5   \n",
       "2    2005  2005/10/21  Johannesburg      8      2       2            2   \n",
       "3    2006  2006/01/09      Brisbane      6      8       6            6   \n",
       "4    2006  2006/02/24  Johannesburg      8      6       8            8   \n",
       "\n",
       "  toss_decision win_by_runs win_by_wickets  \n",
       "0           bat          44            NaN  \n",
       "1           bat         100            NaN  \n",
       "2           bat         NaN              5  \n",
       "3           bat          95            NaN  \n",
       "4           bat           2            NaN  "
      ]
     },
     "execution_count": 264,
     "metadata": {},
     "output_type": "execute_result"
    }
   ],
   "source": [
    "\n",
    "team_encodings = {\n",
    "    'India' : 1,\n",
    "    'New Zealand' :2,\n",
    "    'Sri Lanka' :3,\n",
    "    'Pakistan' :4,\n",
    "    'England':5,\n",
    "    'Australia' :6,\n",
    "    'Bangladesh' :7,\n",
    "    'South Africa' :8,\n",
    "    'West Indies' :9,\n",
    "    'Zimbabwe' :10,\n",
    "    'Ireland' :11,\n",
    "    'Afghanistan' :12,\n",
    "    'Kenya' :13,\n",
    "    'Scotland' :14,\n",
    "    'Netherlands' :15,\n",
    "    'Ireland' :16,\n",
    "    'Bermuda' :17,\n",
    "    'Namibia' :18,\n",
    "    'Canada' :19,\n",
    "    'U.A.E.' :20,\n",
    "    'Hong Kong' :21,\n",
    "    'Nepal' :22,\n",
    "    'P.N.G.' :23,\n",
    "    'Oman' :24,\n",
    "    'World-XI' :25,\n",
    "    'Namibia' :26,\n",
    "    'Nigeria' :27,\n",
    "    'U.S.A.' :28,\n",
    "    'Botswana' :29,\n",
    "    'Cayman Islands' :30,\n",
    "    'Singapore' :31,\n",
    "    'Jersey' :32,\n",
    "    'Ghana':33,\n",
    "    'Uganda':34\n",
    "\n",
    "    \n",
    "}\n",
    "\n",
    "team_encode_dict = {'team1': team_encodings,\n",
    "                    'team2': team_encodings,\n",
    "                    'toss_winner': team_encodings,\n",
    "                    'winner': team_encodings\n",
    "                   }\n",
    "\n",
    "match_df.replace(team_encode_dict, inplace=True)\n",
    "match_df.head()"
   ]
  },
  {
   "cell_type": "markdown",
   "metadata": {
    "id": "BQyQIF-0kKhT"
   },
   "source": [
    "### Exploring City Column"
   ]
  },
  {
   "cell_type": "code",
   "execution_count": 265,
   "metadata": {
    "id": "Lajh1od2kKhT",
    "outputId": "9111aff3-5ebe-4a53-849a-6f08921d3056"
   },
   "outputs": [
    {
     "data": {
      "text/plain": [
       "Dubai (DSC)      59\n",
       "Dhaka            43\n",
       "Colombo (RPS)    36\n",
       "Johannesburg     29\n",
       "Abu Dhabi        28\n",
       "                 ..\n",
       "Kimberley         1\n",
       "Geelong           1\n",
       "Ahmedabad         1\n",
       "Dublin            1\n",
       "St George's       1\n",
       "Name: city, Length: 109, dtype: int64"
      ]
     },
     "execution_count": 265,
     "metadata": {},
     "output_type": "execute_result"
    }
   ],
   "source": [
    "match_df['city'].value_counts()"
   ]
  },
  {
   "cell_type": "markdown",
   "metadata": {
    "id": "iJdboAsIkKhU"
   },
   "source": [
    "### Dropping all the redundant columns"
   ]
  },
  {
   "cell_type": "code",
   "execution_count": 266,
   "metadata": {
    "id": "Z8kWmwhikKhU",
    "outputId": "ffc5cda0-6d93-4394-b369-db65482c4cf8"
   },
   "outputs": [
    {
     "data": {
      "text/html": [
       "<div>\n",
       "<style scoped>\n",
       "    .dataframe tbody tr th:only-of-type {\n",
       "        vertical-align: middle;\n",
       "    }\n",
       "\n",
       "    .dataframe tbody tr th {\n",
       "        vertical-align: top;\n",
       "    }\n",
       "\n",
       "    .dataframe thead th {\n",
       "        text-align: right;\n",
       "    }\n",
       "</style>\n",
       "<table border=\"1\" class=\"dataframe\">\n",
       "  <thead>\n",
       "    <tr style=\"text-align: right;\">\n",
       "      <th></th>\n",
       "      <th>team1</th>\n",
       "      <th>team2</th>\n",
       "      <th>city</th>\n",
       "      <th>toss_decision</th>\n",
       "      <th>toss_winner</th>\n",
       "      <th>winner</th>\n",
       "    </tr>\n",
       "  </thead>\n",
       "  <tbody>\n",
       "    <tr>\n",
       "      <th>0</th>\n",
       "      <td>2</td>\n",
       "      <td>6</td>\n",
       "      <td>Auckland</td>\n",
       "      <td>bat</td>\n",
       "      <td>6</td>\n",
       "      <td>6</td>\n",
       "    </tr>\n",
       "    <tr>\n",
       "      <th>1</th>\n",
       "      <td>5</td>\n",
       "      <td>6</td>\n",
       "      <td>Southampton</td>\n",
       "      <td>bat</td>\n",
       "      <td>5</td>\n",
       "      <td>5</td>\n",
       "    </tr>\n",
       "    <tr>\n",
       "      <th>2</th>\n",
       "      <td>8</td>\n",
       "      <td>2</td>\n",
       "      <td>Johannesburg</td>\n",
       "      <td>bat</td>\n",
       "      <td>2</td>\n",
       "      <td>2</td>\n",
       "    </tr>\n",
       "    <tr>\n",
       "      <th>3</th>\n",
       "      <td>6</td>\n",
       "      <td>8</td>\n",
       "      <td>Brisbane</td>\n",
       "      <td>bat</td>\n",
       "      <td>6</td>\n",
       "      <td>6</td>\n",
       "    </tr>\n",
       "    <tr>\n",
       "      <th>4</th>\n",
       "      <td>8</td>\n",
       "      <td>6</td>\n",
       "      <td>Johannesburg</td>\n",
       "      <td>bat</td>\n",
       "      <td>8</td>\n",
       "      <td>8</td>\n",
       "    </tr>\n",
       "  </tbody>\n",
       "</table>\n",
       "</div>"
      ],
      "text/plain": [
       "   team1  team2          city toss_decision  toss_winner  winner\n",
       "0      2      6      Auckland           bat            6       6\n",
       "1      5      6   Southampton           bat            5       5\n",
       "2      8      2  Johannesburg           bat            2       2\n",
       "3      6      8      Brisbane           bat            6       6\n",
       "4      8      6  Johannesburg           bat            8       8"
      ]
     },
     "execution_count": 266,
     "metadata": {},
     "output_type": "execute_result"
    }
   ],
   "source": [
    "match_df = match_df[[ 'team1','team2','city','toss_decision','toss_winner','winner']]\n",
    "match_df.head()"
   ]
  },
  {
   "cell_type": "code",
   "execution_count": 267,
   "metadata": {
    "id": "UIHE4iwvkKhU",
    "outputId": "50b2a577-732f-4230-aa73-c944281feb4b"
   },
   "outputs": [
    {
     "data": {
      "text/html": [
       "<div>\n",
       "<style scoped>\n",
       "    .dataframe tbody tr th:only-of-type {\n",
       "        vertical-align: middle;\n",
       "    }\n",
       "\n",
       "    .dataframe tbody tr th {\n",
       "        vertical-align: top;\n",
       "    }\n",
       "\n",
       "    .dataframe thead th {\n",
       "        text-align: right;\n",
       "    }\n",
       "</style>\n",
       "<table border=\"1\" class=\"dataframe\">\n",
       "  <thead>\n",
       "    <tr style=\"text-align: right;\">\n",
       "      <th></th>\n",
       "      <th>team1</th>\n",
       "      <th>team2</th>\n",
       "      <th>toss_winner</th>\n",
       "      <th>winner</th>\n",
       "    </tr>\n",
       "  </thead>\n",
       "  <tbody>\n",
       "    <tr>\n",
       "      <th>count</th>\n",
       "      <td>833.000000</td>\n",
       "      <td>833.000000</td>\n",
       "      <td>833.000000</td>\n",
       "      <td>833.000000</td>\n",
       "    </tr>\n",
       "    <tr>\n",
       "      <th>mean</th>\n",
       "      <td>8.570228</td>\n",
       "      <td>8.757503</td>\n",
       "      <td>8.809124</td>\n",
       "      <td>7.990396</td>\n",
       "    </tr>\n",
       "    <tr>\n",
       "      <th>std</th>\n",
       "      <td>6.198261</td>\n",
       "      <td>6.597914</td>\n",
       "      <td>6.405625</td>\n",
       "      <td>6.067521</td>\n",
       "    </tr>\n",
       "    <tr>\n",
       "      <th>min</th>\n",
       "      <td>1.000000</td>\n",
       "      <td>1.000000</td>\n",
       "      <td>1.000000</td>\n",
       "      <td>1.000000</td>\n",
       "    </tr>\n",
       "    <tr>\n",
       "      <th>25%</th>\n",
       "      <td>4.000000</td>\n",
       "      <td>4.000000</td>\n",
       "      <td>4.000000</td>\n",
       "      <td>3.000000</td>\n",
       "    </tr>\n",
       "    <tr>\n",
       "      <th>50%</th>\n",
       "      <td>7.000000</td>\n",
       "      <td>7.000000</td>\n",
       "      <td>7.000000</td>\n",
       "      <td>6.000000</td>\n",
       "    </tr>\n",
       "    <tr>\n",
       "      <th>75%</th>\n",
       "      <td>12.000000</td>\n",
       "      <td>13.000000</td>\n",
       "      <td>13.000000</td>\n",
       "      <td>12.000000</td>\n",
       "    </tr>\n",
       "    <tr>\n",
       "      <th>max</th>\n",
       "      <td>34.000000</td>\n",
       "      <td>32.000000</td>\n",
       "      <td>33.000000</td>\n",
       "      <td>31.000000</td>\n",
       "    </tr>\n",
       "  </tbody>\n",
       "</table>\n",
       "</div>"
      ],
      "text/plain": [
       "            team1       team2  toss_winner      winner\n",
       "count  833.000000  833.000000   833.000000  833.000000\n",
       "mean     8.570228    8.757503     8.809124    7.990396\n",
       "std      6.198261    6.597914     6.405625    6.067521\n",
       "min      1.000000    1.000000     1.000000    1.000000\n",
       "25%      4.000000    4.000000     4.000000    3.000000\n",
       "50%      7.000000    7.000000     7.000000    6.000000\n",
       "75%     12.000000   13.000000    13.000000   12.000000\n",
       "max     34.000000   32.000000    33.000000   31.000000"
      ]
     },
     "execution_count": 267,
     "metadata": {},
     "output_type": "execute_result"
    }
   ],
   "source": [
    "match_df.describe()"
   ]
  },
  {
   "cell_type": "markdown",
   "metadata": {
    "id": "wHdkm_MckKhV"
   },
   "source": [
    "### Toss Wins and Match Wins by each Team"
   ]
  },
  {
   "cell_type": "code",
   "execution_count": 268,
   "metadata": {
    "id": "GKqOORDfkKhV",
    "outputId": "57a49b7e-06e4-4bfc-9dc9-9dc26b224907"
   },
   "outputs": [
    {
     "name": "stdout",
     "output_type": "stream",
     "text": [
      "Pakistan -> 91\n",
      "India -> 87\n",
      "South Africa -> 73\n",
      "New Zealand -> 64\n",
      "Sri Lanka -> 63\n",
      "England -> 60\n",
      "Australia -> 58\n",
      "West Indies -> 55\n",
      "Afghanistan -> 50\n",
      "Netherlands -> 43\n",
      "Bermuda -> 38\n",
      "Scotland -> 34\n",
      "Bangladesh -> 29\n",
      "Zimbabwe -> 21\n",
      "Kenya -> 14\n",
      "U.S.A. -> 11\n",
      "Nepal -> 8\n",
      "Oman -> 7\n",
      "Hong Kong -> 7\n",
      "U.A.E. -> 6\n",
      "Ghana -> 4\n",
      "P.N.G. -> 3\n",
      "World-XI -> 2\n",
      "Jersey -> 2\n",
      "Nigeria -> 1\n",
      "Namibia -> 1\n",
      "Cayman Islands -> 1\n"
     ]
    }
   ],
   "source": [
    "##looking at number of toss wins and match wins\n",
    "toss_wins = match_df['winner'].value_counts(sort=True)\n",
    "match_wins = match_df['winner'].value_counts(sort=True)\n",
    "\n",
    "for idx, val in toss_wins.iteritems():\n",
    "    print(f\"{list(team_encode_dict['winner'].keys())[idx-1]} -> {toss_wins[idx]}\")\n"
   ]
  },
  {
   "cell_type": "markdown",
   "metadata": {
    "id": "0DE7C5WPkKhW"
   },
   "source": [
    "## Data Preparation\n",
    "\n",
    "**Encoding all the remaining features**\n",
    "\n",
    "* city\n",
    "* toss_decision\n",
    "* venue"
   ]
  },
  {
   "cell_type": "code",
   "execution_count": 269,
   "metadata": {
    "id": "NKyl_qb1kKhW",
    "outputId": "8135f2f3-b303-4319-ed9b-7e181611aeb8"
   },
   "outputs": [
    {
     "name": "stdout",
     "output_type": "stream",
     "text": [
      "['Aberdeen' 'Abu Dhabi' 'Adelaide' 'Ahmedabad' 'Al Amerat' 'Amstelveen'\n",
      " 'Auckland' 'Basseterre' 'Belfast' 'Bengaluru' 'Birmingham' 'Bloemfontein'\n",
      " 'Bready' 'Bridgetown' 'Brisbane' 'Bristol' 'Bulawayo' 'Canberra'\n",
      " 'Cape Town' 'Cardiff' 'Carrara' 'Centurion' 'Chattogram' 'Chennai'\n",
      " 'Chester-le-Street' 'Christchurch' 'Colombo (PSS)' 'Colombo (RPS)'\n",
      " 'Colombo (SSC)' 'Cuttack' 'Dehradun' 'Delhi' 'Deventer' 'Dhaka'\n",
      " 'Dharamsala' 'Dubai (DSC)' 'Dublin' 'Dublin (Malahide)' 'Durban'\n",
      " 'East London' 'Edinburgh' 'Fatullah' 'Geelong' 'Greater Noida'\n",
      " 'Gros Islet' 'Guwahati' 'Hambantota' 'Hamilton' 'Harare' 'Hobart'\n",
      " 'Hyderabad (Deccan)' 'ICCA 2 Dubai' 'ICCA Dubai' 'Indore' 'Johannesburg'\n",
      " 'Kampala' 'Kanpur' 'Karachi' 'Khulna' 'Kimberley' 'King City (NW)'\n",
      " 'Kingston' 'Kingstown' 'Kolkata' 'Lahore' 'Lauderhill' \"Lord's\" 'Lucknow'\n",
      " 'Manchester' 'Melbourne' 'Mohali' 'Mombasa' 'Mong Kok' 'Mount Maunganui'\n",
      " 'Mumbai' 'Mumbai (BS)' 'Nagpur' 'Nairobi (Gym)' 'Napier' 'Nelson'\n",
      " 'North Sound' 'Nottingham' 'Pallekele' 'Perth' 'Port Elizabeth'\n",
      " 'Port of Spain' 'Potchefstroom' 'Providence' 'Pune' 'Rajkot' 'Ranchi'\n",
      " 'Roseau' 'Rotterdam' 'Sandys Parish' 'Sharjah' 'Singapore' 'Southampton'\n",
      " \"St George's\" 'Sydney' 'Sylhet' 'Taunton' 'The Hague' 'The Oval'\n",
      " 'Thiruvananthapuram' 'Tolerance Oval' 'Townsville' 'Visakhapatnam'\n",
      " 'Wellington' 'Windhoek']\n",
      "['bat' 'field']\n"
     ]
    },
    {
     "data": {
      "text/html": [
       "<div>\n",
       "<style scoped>\n",
       "    .dataframe tbody tr th:only-of-type {\n",
       "        vertical-align: middle;\n",
       "    }\n",
       "\n",
       "    .dataframe tbody tr th {\n",
       "        vertical-align: top;\n",
       "    }\n",
       "\n",
       "    .dataframe thead th {\n",
       "        text-align: right;\n",
       "    }\n",
       "</style>\n",
       "<table border=\"1\" class=\"dataframe\">\n",
       "  <thead>\n",
       "    <tr style=\"text-align: right;\">\n",
       "      <th></th>\n",
       "      <th>team1</th>\n",
       "      <th>team2</th>\n",
       "      <th>city</th>\n",
       "      <th>toss_decision</th>\n",
       "      <th>toss_winner</th>\n",
       "      <th>winner</th>\n",
       "    </tr>\n",
       "  </thead>\n",
       "  <tbody>\n",
       "    <tr>\n",
       "      <th>0</th>\n",
       "      <td>2</td>\n",
       "      <td>6</td>\n",
       "      <td>6</td>\n",
       "      <td>0</td>\n",
       "      <td>6</td>\n",
       "      <td>6</td>\n",
       "    </tr>\n",
       "    <tr>\n",
       "      <th>1</th>\n",
       "      <td>5</td>\n",
       "      <td>6</td>\n",
       "      <td>96</td>\n",
       "      <td>0</td>\n",
       "      <td>5</td>\n",
       "      <td>5</td>\n",
       "    </tr>\n",
       "    <tr>\n",
       "      <th>2</th>\n",
       "      <td>8</td>\n",
       "      <td>2</td>\n",
       "      <td>54</td>\n",
       "      <td>0</td>\n",
       "      <td>2</td>\n",
       "      <td>2</td>\n",
       "    </tr>\n",
       "    <tr>\n",
       "      <th>3</th>\n",
       "      <td>6</td>\n",
       "      <td>8</td>\n",
       "      <td>14</td>\n",
       "      <td>0</td>\n",
       "      <td>6</td>\n",
       "      <td>6</td>\n",
       "    </tr>\n",
       "    <tr>\n",
       "      <th>4</th>\n",
       "      <td>8</td>\n",
       "      <td>6</td>\n",
       "      <td>54</td>\n",
       "      <td>0</td>\n",
       "      <td>8</td>\n",
       "      <td>8</td>\n",
       "    </tr>\n",
       "    <tr>\n",
       "      <th>...</th>\n",
       "      <td>...</td>\n",
       "      <td>...</td>\n",
       "      <td>...</td>\n",
       "      <td>...</td>\n",
       "      <td>...</td>\n",
       "      <td>...</td>\n",
       "    </tr>\n",
       "    <tr>\n",
       "      <th>828</th>\n",
       "      <td>12</td>\n",
       "      <td>16</td>\n",
       "      <td>43</td>\n",
       "      <td>0</td>\n",
       "      <td>16</td>\n",
       "      <td>16</td>\n",
       "    </tr>\n",
       "    <tr>\n",
       "      <th>829</th>\n",
       "      <td>3</td>\n",
       "      <td>9</td>\n",
       "      <td>82</td>\n",
       "      <td>1</td>\n",
       "      <td>9</td>\n",
       "      <td>9</td>\n",
       "    </tr>\n",
       "    <tr>\n",
       "      <th>830</th>\n",
       "      <td>12</td>\n",
       "      <td>16</td>\n",
       "      <td>43</td>\n",
       "      <td>0</td>\n",
       "      <td>12</td>\n",
       "      <td>12</td>\n",
       "    </tr>\n",
       "    <tr>\n",
       "      <th>831</th>\n",
       "      <td>7</td>\n",
       "      <td>10</td>\n",
       "      <td>33</td>\n",
       "      <td>0</td>\n",
       "      <td>10</td>\n",
       "      <td>10</td>\n",
       "    </tr>\n",
       "    <tr>\n",
       "      <th>832</th>\n",
       "      <td>12</td>\n",
       "      <td>16</td>\n",
       "      <td>43</td>\n",
       "      <td>0</td>\n",
       "      <td>16</td>\n",
       "      <td>12</td>\n",
       "    </tr>\n",
       "  </tbody>\n",
       "</table>\n",
       "<p>833 rows × 6 columns</p>\n",
       "</div>"
      ],
      "text/plain": [
       "     team1  team2  city  toss_decision  toss_winner  winner\n",
       "0        2      6     6              0            6       6\n",
       "1        5      6    96              0            5       5\n",
       "2        8      2    54              0            2       2\n",
       "3        6      8    14              0            6       6\n",
       "4        8      6    54              0            8       8\n",
       "..     ...    ...   ...            ...          ...     ...\n",
       "828     12     16    43              0           16      16\n",
       "829      3      9    82              1            9       9\n",
       "830     12     16    43              0           12      12\n",
       "831      7     10    33              0           10      10\n",
       "832     12     16    43              0           16      12\n",
       "\n",
       "[833 rows x 6 columns]"
      ]
     },
     "execution_count": 269,
     "metadata": {},
     "output_type": "execute_result"
    }
   ],
   "source": [
    "##using the label encoder\n",
    "from sklearn.preprocessing import LabelEncoder\n",
    "\n",
    "ftr_list = ['city', 'toss_decision']\n",
    "encoder = LabelEncoder()\n",
    "for ftr in ftr_list:\n",
    "    match_df[ftr] = encoder.fit_transform(match_df[ftr])\n",
    "    print(encoder.classes_)\n",
    "\n",
    "match_df"
   ]
  },
  {
   "cell_type": "markdown",
   "metadata": {
    "id": "NLneOcjdkKhW"
   },
   "source": [
    "## Machine Learning"
   ]
  },
  {
   "cell_type": "code",
   "execution_count": 270,
   "metadata": {
    "id": "JX3oAq9mkKhW",
    "outputId": "f2e2b6da-6fd8-453b-b4c7-b9546f718b65"
   },
   "outputs": [
    {
     "name": "stdout",
     "output_type": "stream",
     "text": [
      "(666, 6)\n",
      "(167, 6)\n"
     ]
    }
   ],
   "source": [
    "##splitting the data for training and testing\n",
    "\n",
    "from sklearn.model_selection import train_test_split\n",
    "\n",
    "train_df, test_df = train_test_split(match_df, test_size=0.2, random_state=42)\n",
    "print(train_df.shape)\n",
    "print(test_df.shape)"
   ]
  },
  {
   "cell_type": "code",
   "execution_count": 271,
   "metadata": {
    "id": "IDkJLpMakKhX"
   },
   "outputs": [],
   "source": [
    "#Import models from scikit learn module:\n",
    "from sklearn.linear_model import LogisticRegression\n",
    "from sklearn.model_selection import cross_val_score\n",
    "from sklearn.ensemble import RandomForestClassifier\n",
    "from sklearn.metrics import accuracy_score\n",
    "import numpy as np\n",
    "\n",
    "\n",
    "def print_model_scores(model, data, predictors, target):\n",
    "    '''\n",
    "    A generic function to generate the performance report of the\n",
    "    model in question on the data passed to it using cross-validation\n",
    "    \n",
    "    Args:\n",
    "        model: ML Model to be checked\n",
    "        data: data on which the model needs to pe trained\n",
    "        predictors: independent feature variable\n",
    "        target: target variable\n",
    "    '''\n",
    "    model.fit(data[predictors], data[target])\n",
    "    predictions = model.predict(data[predictors])\n",
    "    accuracy = accuracy_score(predictions,data[target])\n",
    "    print('Accuracy : %s' % '{0:.2%}'.format(accuracy))\n",
    "    scores = cross_val_score(model, data[predictors], data[target], scoring=\"neg_mean_squared_error\", cv=5)\n",
    "    print('Cross-Validation Score :{}'.format(np.sqrt(-scores)))\n",
    "    print(f\"Average RMSE: {np.sqrt(-scores).mean()}\")"
   ]
  },
  {
   "cell_type": "markdown",
   "metadata": {
    "id": "W-2qYCr4kKhX"
   },
   "source": [
    "### Logistic Regression"
   ]
  },
  {
   "cell_type": "code",
   "execution_count": 272,
   "metadata": {
    "id": "jFoT3KsBkKhX",
    "outputId": "ae264c1c-2927-404d-a7d6-2dc53bc77580",
    "scrolled": false
   },
   "outputs": [
    {
     "name": "stdout",
     "output_type": "stream",
     "text": [
      "Accuracy : 24.17%\n",
      "Cross-Validation Score :[6.04522755 5.18021104 5.54679342 5.2041048  5.03372088]\n",
      "Average RMSE: 5.40201153889536\n"
     ]
    }
   ],
   "source": [
    "##PAVITHRANI:WE WILL BE USING THE RANDOM FORREST ONE COZ OF HIGHER ACCURACY\n",
    "target_var=['winner']\n",
    "predictor_var = ['team1','team2', 'toss_winner', 'city', 'toss_decision']\n",
    "model = LogisticRegression()\n",
    "print_model_scores(model, train_df, predictor_var, target_var)"
   ]
  },
  {
   "cell_type": "markdown",
   "metadata": {
    "id": "YiKsTz6PkKhX"
   },
   "source": [
    "### Random Forest Classifier"
   ]
  },
  {
   "cell_type": "code",
   "execution_count": 273,
   "metadata": {
    "id": "bS_Gmra5kKhX",
    "outputId": "2f033744-e336-40ff-a334-f55609a5e0ef"
   },
   "outputs": [
    {
     "name": "stdout",
     "output_type": "stream",
     "text": [
      "Accuracy : 94.60%\n",
      "Cross-Validation Score :[3.54441451 3.53172109 3.26017523 3.68405879 3.41682584]\n",
      "Average RMSE: 3.4874390923705065\n"
     ]
    }
   ],
   "source": [
    "model1 = RandomForestClassifier(n_estimators=100)\n",
    "target_var = ['winner']\n",
    "predictor_var = ['team1', 'team2', 'toss_winner','city','toss_decision']\n",
    "print_model_scores(model1, match_df,predictor_var, target_var)"
   ]
  },
  {
   "cell_type": "code",
   "execution_count": 274,
   "metadata": {},
   "outputs": [
    {
     "name": "stdout",
     "output_type": "stream",
     "text": [
      "[['6' '1' '1' '5' '2']]\n",
      "[1]\n",
      "The winner would be: India\n"
     ]
    }
   ],
   "source": [
    "team1='Australia'\n",
    "team2='India'\n",
    "toss_winner='India'\n",
    "inp = [team_encode_dict['team1'][team1],team_encode_dict['team2'][team2],team_encode_dict['toss_winner'][toss_winner],'5','2']\n",
    "inp = np.array(inp).reshape((1, -1))\n",
    "print(inp)\n",
    "output=model1.predict(inp)\n",
    "print(output)\n",
    "print(f\"The winner would be: {list(team_encodings.keys())[list(team_encode_dict['team1'].values()).index(output)]}\")"
   ]
  },
  {
   "cell_type": "code",
   "execution_count": 275,
   "metadata": {},
   "outputs": [],
   "source": [
    "import pickle \n",
    "pickle.dump(model1,open('model.pkl','wb'))"
   ]
  }
 ],
 "metadata": {
  "colab": {
   "name": "T20 prediction.ipynb",
   "provenance": []
  },
  "kernelspec": {
   "display_name": "Python 3 (ipykernel)",
   "language": "python",
   "name": "python3"
  },
  "language_info": {
   "codemirror_mode": {
    "name": "ipython",
    "version": 3
   },
   "file_extension": ".py",
   "mimetype": "text/x-python",
   "name": "python",
   "nbconvert_exporter": "python",
   "pygments_lexer": "ipython3",
   "version": "3.9.7"
  },
  "toc": {
   "base_numbering": 1,
   "nav_menu": {},
   "number_sections": true,
   "sideBar": true,
   "skip_h1_title": false,
   "title_cell": "Table of Contents",
   "title_sidebar": "Contents",
   "toc_cell": false,
   "toc_position": {},
   "toc_section_display": true,
   "toc_window_display": true
  }
 },
 "nbformat": 4,
 "nbformat_minor": 1
}
